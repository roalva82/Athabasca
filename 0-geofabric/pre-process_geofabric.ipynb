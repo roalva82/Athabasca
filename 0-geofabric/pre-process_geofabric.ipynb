{
 "cells": [
  {
   "cell_type": "markdown",
   "id": "d7551170-ab7c-4b92-92b6-1c20f0d49351",
   "metadata": {},
   "source": [
    "# Basic preparations"
   ]
  },
  {
   "cell_type": "markdown",
   "id": "9487854e-e378-43c9-967e-38f2bf461a31",
   "metadata": {},
   "source": [
    "Using ArcHydro phase 2 dataset "
   ]
  },
  {
   "cell_type": "code",
   "execution_count": 1,
   "id": "ab4289ca-f8ac-4036-a97a-da8ec5f19931",
   "metadata": {},
   "outputs": [],
   "source": [
    "import geopandas as gpd\n",
    "import pandas as pd\n",
    "import numpy as np\n",
    "import matplotlib.pyplot as plt\n",
    "\n",
    "import hydrant.topology.geom as gm\n",
    "\n",
    "import subprocess\n",
    "import os"
   ]
  },
  {
   "cell_type": "markdown",
   "id": "0c5f5911-4a7a-4d15-8dc0-3a93cc040893",
   "metadata": {},
   "source": [
    "Path definitions (system dependant - modify accordingly):"
   ]
  },
  {
   "cell_type": "code",
   "execution_count": 2,
   "id": "d6aec4dd-f7bc-4511-8870-948522c102a5",
   "metadata": {},
   "outputs": [],
   "source": [
    "# geofabric paths\n",
    "\n",
    "# output paths\n",
    "output_path = './results/'"
   ]
  },
  {
   "cell_type": "markdown",
   "id": "a9ed52d2-4ee3-4a8c-a07d-8965ed4f6611",
   "metadata": {},
   "source": [
    "# Reading Geofabric Dataset"
   ]
  },
  {
   "cell_type": "markdown",
   "id": "1b8b2e02-d10d-496a-9427-011cbdb2be00",
   "metadata": {},
   "source": [
    "Case study of Athabasca River from ArcHydro data set"
   ]
  },
  {
   "cell_type": "code",
   "execution_count": 3,
   "id": "a95e8a19-d3a6-4d09-bc23-dbaa46958673",
   "metadata": {
    "tags": []
   },
   "outputs": [],
   "source": [
    "# file names\n",
    "cat_files = ['../shapefiles/basins_renamedID.shp']\n",
    "riv_files = ['../shapefiles/river_with_slope.shp']\n",
    "\n",
    "cat = pd.concat([gpd.read_file(f) for f in cat_files])\n",
    "riv = pd.concat([gpd.read_file(f) for f in riv_files])"
   ]
  },
  {
   "cell_type": "code",
   "execution_count": 4,
   "id": "92a150ce-e88b-493b-8798-1fd5769eab44",
   "metadata": {},
   "outputs": [],
   "source": [
    "cat.to_crs(epsg=4326, inplace=True)\n",
    "riv.to_crs(epsg=4326, inplace=True)"
   ]
  },
  {
   "cell_type": "markdown",
   "id": "97edc3f6-81d7-48b0-8136-77635fae81b4",
   "metadata": {},
   "source": [
    "# Preparing `cat`, `riv`, and `nca` objects for AB"
   ]
  },
  {
   "cell_type": "markdown",
   "id": "1c55e172-f8eb-4b76-9177-3612a3c7aff9",
   "metadata": {},
   "source": [
    "## Preparing `catchments` and `rivers`"
   ]
  },
  {
   "cell_type": "code",
   "execution_count": 6,
   "id": "ab997165-5ad6-4ad6-98cc-2c4b49b76748",
   "metadata": {},
   "outputs": [],
   "source": [
    "catchments = gm.prepare_cat(\n",
    "    cat=cat, \n",
    "    cat_col_id='DrainID', \n",
    ")\n"
   ]
  },
  {
   "cell_type": "code",
   "execution_count": 7,
   "id": "ab8a651c-3ab5-43f6-8eaf-dcba3827cf23",
   "metadata": {},
   "outputs": [
    {
     "data": {
      "text/html": [
       "<div>\n",
       "<style scoped>\n",
       "    .dataframe tbody tr th:only-of-type {\n",
       "        vertical-align: middle;\n",
       "    }\n",
       "\n",
       "    .dataframe tbody tr th {\n",
       "        vertical-align: top;\n",
       "    }\n",
       "\n",
       "    .dataframe thead th {\n",
       "        text-align: right;\n",
       "    }\n",
       "</style>\n",
       "<table border=\"1\" class=\"dataframe\">\n",
       "  <thead>\n",
       "    <tr style=\"text-align: right;\">\n",
       "      <th></th>\n",
       "      <th>DrainID</th>\n",
       "      <th>GridID</th>\n",
       "      <th>NextDownID</th>\n",
       "      <th>JunctionID</th>\n",
       "      <th>Shape_Leng</th>\n",
       "      <th>Shape_Area</th>\n",
       "      <th>geometry</th>\n",
       "      <th>hillslope</th>\n",
       "    </tr>\n",
       "  </thead>\n",
       "  <tbody>\n",
       "    <tr>\n",
       "      <th>0</th>\n",
       "      <td>1500000001</td>\n",
       "      <td>1</td>\n",
       "      <td>-1</td>\n",
       "      <td>1500076622</td>\n",
       "      <td>15600.4142</td>\n",
       "      <td>1.250066e+07</td>\n",
       "      <td>POLYGON ((-111.01517 58.73518, -111.01527 58.7...</td>\n",
       "      <td>0</td>\n",
       "    </tr>\n",
       "    <tr>\n",
       "      <th>1</th>\n",
       "      <td>1500000002</td>\n",
       "      <td>2</td>\n",
       "      <td>-1</td>\n",
       "      <td>1500076625</td>\n",
       "      <td>10800.2866</td>\n",
       "      <td>3.450183e+06</td>\n",
       "      <td>POLYGON ((-111.06912 58.73234, -111.06983 58.7...</td>\n",
       "      <td>0</td>\n",
       "    </tr>\n",
       "    <tr>\n",
       "      <th>2</th>\n",
       "      <td>1500000003</td>\n",
       "      <td>3</td>\n",
       "      <td>-1</td>\n",
       "      <td>1500076617</td>\n",
       "      <td>800.0212</td>\n",
       "      <td>3.000159e+04</td>\n",
       "      <td>POLYGON ((-110.95588 58.72434, -110.95609 58.7...</td>\n",
       "      <td>0</td>\n",
       "    </tr>\n",
       "    <tr>\n",
       "      <th>3</th>\n",
       "      <td>1500000004</td>\n",
       "      <td>4</td>\n",
       "      <td>1500000003</td>\n",
       "      <td>1500076616</td>\n",
       "      <td>12400.3288</td>\n",
       "      <td>5.080269e+06</td>\n",
       "      <td>POLYGON ((-110.99286 58.73359, -110.99296 58.7...</td>\n",
       "      <td>0</td>\n",
       "    </tr>\n",
       "    <tr>\n",
       "      <th>4</th>\n",
       "      <td>1500000005</td>\n",
       "      <td>5</td>\n",
       "      <td>1500000003</td>\n",
       "      <td>1500076616</td>\n",
       "      <td>17400.4618</td>\n",
       "      <td>1.088058e+07</td>\n",
       "      <td>POLYGON ((-110.95436 58.72249, -110.95447 58.7...</td>\n",
       "      <td>0</td>\n",
       "    </tr>\n",
       "  </tbody>\n",
       "</table>\n",
       "</div>"
      ],
      "text/plain": [
       "      DrainID  GridID  NextDownID  JunctionID  Shape_Leng    Shape_Area  \\\n",
       "0  1500000001       1          -1  1500076622  15600.4142  1.250066e+07   \n",
       "1  1500000002       2          -1  1500076625  10800.2866  3.450183e+06   \n",
       "2  1500000003       3          -1  1500076617    800.0212  3.000159e+04   \n",
       "3  1500000004       4  1500000003  1500076616  12400.3288  5.080269e+06   \n",
       "4  1500000005       5  1500000003  1500076616  17400.4618  1.088058e+07   \n",
       "\n",
       "                                            geometry  hillslope  \n",
       "0  POLYGON ((-111.01517 58.73518, -111.01527 58.7...          0  \n",
       "1  POLYGON ((-111.06912 58.73234, -111.06983 58.7...          0  \n",
       "2  POLYGON ((-110.95588 58.72434, -110.95609 58.7...          0  \n",
       "3  POLYGON ((-110.99286 58.73359, -110.99296 58.7...          0  \n",
       "4  POLYGON ((-110.95436 58.72249, -110.95447 58.7...          0  "
      ]
     },
     "execution_count": 7,
     "metadata": {},
     "output_type": "execute_result"
    }
   ],
   "source": [
    "catchments.head()"
   ]
  },
  {
   "cell_type": "code",
   "execution_count": 9,
   "id": "6f8b94fc-48b7-4022-9523-df0c5d58567b",
   "metadata": {
    "tags": []
   },
   "outputs": [],
   "source": [
    "rivers = gm.prepare_riv(\n",
    "    riv=riv, \n",
    "    riv_cols={\n",
    "        'id':'DrainID', \n",
    "        'next_id':'NextDrain', \n",
    "        'slope':'Slope', \n",
    "        'length':'Shape_Leng', \n",
    "    }, \n",
    "    cat=catchments, \n",
    "    cat_cols={\n",
    "        'id':'DrainID', \n",
    "        'hillslope':'hillslope',\n",
    "        'geom':'geometry'\n",
    "    }\n",
    ")\n"
   ]
  },
  {
   "cell_type": "code",
   "execution_count": 10,
   "id": "0bd09173-6e69-44d1-8542-b94b7cbdbc03",
   "metadata": {},
   "outputs": [
    {
     "data": {
      "text/html": [
       "<div>\n",
       "<style scoped>\n",
       "    .dataframe tbody tr th:only-of-type {\n",
       "        vertical-align: middle;\n",
       "    }\n",
       "\n",
       "    .dataframe tbody tr th {\n",
       "        vertical-align: top;\n",
       "    }\n",
       "\n",
       "    .dataframe thead th {\n",
       "        text-align: right;\n",
       "    }\n",
       "</style>\n",
       "<table border=\"1\" class=\"dataframe\">\n",
       "  <thead>\n",
       "    <tr style=\"text-align: right;\">\n",
       "      <th></th>\n",
       "      <th>GridID</th>\n",
       "      <th>FROM_NODE</th>\n",
       "      <th>TO_NODE</th>\n",
       "      <th>HydroID</th>\n",
       "      <th>NextDownID</th>\n",
       "      <th>DrainID</th>\n",
       "      <th>Shape_Leng</th>\n",
       "      <th>Slope</th>\n",
       "      <th>NextDrain</th>\n",
       "      <th>geometry</th>\n",
       "      <th>hillslope</th>\n",
       "    </tr>\n",
       "  </thead>\n",
       "  <tbody>\n",
       "    <tr>\n",
       "      <th>0</th>\n",
       "      <td>1</td>\n",
       "      <td>6</td>\n",
       "      <td>1</td>\n",
       "      <td>1500017088</td>\n",
       "      <td>-1</td>\n",
       "      <td>1500000001</td>\n",
       "      <td>2527.884607</td>\n",
       "      <td>1.0</td>\n",
       "      <td>-9999</td>\n",
       "      <td>LINESTRING (-111.02918 58.71853, -111.02644 58...</td>\n",
       "      <td>0</td>\n",
       "    </tr>\n",
       "    <tr>\n",
       "      <th>1</th>\n",
       "      <td>2</td>\n",
       "      <td>7</td>\n",
       "      <td>2</td>\n",
       "      <td>1500017089</td>\n",
       "      <td>-1</td>\n",
       "      <td>1500000002</td>\n",
       "      <td>2047.110588</td>\n",
       "      <td>1.0</td>\n",
       "      <td>-9999</td>\n",
       "      <td>LINESTRING (-111.08047 58.71605, -111.08696 58...</td>\n",
       "      <td>0</td>\n",
       "    </tr>\n",
       "    <tr>\n",
       "      <th>2</th>\n",
       "      <td>3</td>\n",
       "      <td>3</td>\n",
       "      <td>4</td>\n",
       "      <td>1500017086</td>\n",
       "      <td>-1</td>\n",
       "      <td>1500000003</td>\n",
       "      <td>70.712587</td>\n",
       "      <td>1.0</td>\n",
       "      <td>-9999</td>\n",
       "      <td>LINESTRING (-110.95689 58.72302, -110.95598 58...</td>\n",
       "      <td>0</td>\n",
       "    </tr>\n",
       "    <tr>\n",
       "      <th>3</th>\n",
       "      <td>4</td>\n",
       "      <td>5</td>\n",
       "      <td>3</td>\n",
       "      <td>1500017087</td>\n",
       "      <td>1500017086</td>\n",
       "      <td>1500000004</td>\n",
       "      <td>291.429104</td>\n",
       "      <td>1.0</td>\n",
       "      <td>1500000003</td>\n",
       "      <td>LINESTRING (-110.96131 58.72226, -110.95872 58...</td>\n",
       "      <td>0</td>\n",
       "    </tr>\n",
       "    <tr>\n",
       "      <th>4</th>\n",
       "      <td>5</td>\n",
       "      <td>16</td>\n",
       "      <td>3</td>\n",
       "      <td>1500017094</td>\n",
       "      <td>1500017086</td>\n",
       "      <td>1500000005</td>\n",
       "      <td>4082.951008</td>\n",
       "      <td>1.0</td>\n",
       "      <td>1500000003</td>\n",
       "      <td>LINESTRING (-110.9645 58.68728, -110.96267 58....</td>\n",
       "      <td>0</td>\n",
       "    </tr>\n",
       "  </tbody>\n",
       "</table>\n",
       "</div>"
      ],
      "text/plain": [
       "   GridID  FROM_NODE  TO_NODE     HydroID  NextDownID     DrainID  \\\n",
       "0       1          6        1  1500017088          -1  1500000001   \n",
       "1       2          7        2  1500017089          -1  1500000002   \n",
       "2       3          3        4  1500017086          -1  1500000003   \n",
       "3       4          5        3  1500017087  1500017086  1500000004   \n",
       "4       5         16        3  1500017094  1500017086  1500000005   \n",
       "\n",
       "    Shape_Leng  Slope   NextDrain  \\\n",
       "0  2527.884607    1.0       -9999   \n",
       "1  2047.110588    1.0       -9999   \n",
       "2    70.712587    1.0       -9999   \n",
       "3   291.429104    1.0  1500000003   \n",
       "4  4082.951008    1.0  1500000003   \n",
       "\n",
       "                                            geometry  hillslope  \n",
       "0  LINESTRING (-111.02918 58.71853, -111.02644 58...          0  \n",
       "1  LINESTRING (-111.08047 58.71605, -111.08696 58...          0  \n",
       "2  LINESTRING (-110.95689 58.72302, -110.95598 58...          0  \n",
       "3  LINESTRING (-110.96131 58.72226, -110.95872 58...          0  \n",
       "4  LINESTRING (-110.9645 58.68728, -110.96267 58....          0  "
      ]
     },
     "execution_count": 10,
     "metadata": {},
     "output_type": "execute_result"
    }
   ],
   "source": [
    "rivers.head()"
   ]
  },
  {
   "cell_type": "code",
   "execution_count": 11,
   "id": "5c069285-6df8-41cb-a1f0-3a766c7d4a29",
   "metadata": {},
   "outputs": [],
   "source": [
    "# saving data\n",
    "try:\n",
    "    os.makedirs(output_path)\n",
    "except FileExistsError:\n",
    "    pass\n",
    "    \n",
    "catchments.to_file(os.path.join(output_path, 'basins.shp'))\n",
    "rivers.to_file(os.path.join(output_path, 'rivers.shp'))\n"
   ]
  },
  {
   "cell_type": "code",
   "execution_count": null,
   "id": "661fc2e9-0d16-40ac-9f11-71bb04d4786f",
   "metadata": {},
   "outputs": [],
   "source": []
  }
 ],
 "metadata": {
  "kernelspec": {
   "display_name": "scienv",
   "language": "python",
   "name": "scienv"
  },
  "language_info": {
   "codemirror_mode": {
    "name": "ipython",
    "version": 3
   },
   "file_extension": ".py",
   "mimetype": "text/x-python",
   "name": "python",
   "nbconvert_exporter": "python",
   "pygments_lexer": "ipython3",
   "version": "3.11.7"
  },
  "toc-autonumbering": true
 },
 "nbformat": 4,
 "nbformat_minor": 5
}
